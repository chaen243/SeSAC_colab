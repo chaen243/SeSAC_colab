{
  "nbformat": 4,
  "nbformat_minor": 0,
  "metadata": {
    "colab": {
      "provenance": [],
      "gpuType": "T4",
      "include_colab_link": true
    },
    "kernelspec": {
      "name": "python3",
      "display_name": "Python 3"
    },
    "language_info": {
      "name": "python"
    },
    "accelerator": "GPU"
  },
  "cells": [
    {
      "cell_type": "markdown",
      "metadata": {
        "id": "view-in-github",
        "colab_type": "text"
      },
      "source": [
        "<a href=\"https://colab.research.google.com/github/chaen243/SeSAC_colab/blob/main/03_01_MNIST_NN_exp.ipynb\" target=\"_parent\"><img src=\"https://colab.research.google.com/assets/colab-badge.svg\" alt=\"Open In Colab\"/></a>"
      ]
    },
    {
      "cell_type": "code",
      "execution_count": null,
      "metadata": {
        "id": "rDjZ2KtM5bCy",
        "colab": {
          "base_uri": "https://localhost:8080/"
        },
        "outputId": "10f68ff7-2128-407e-9f74-561d3374998d"
      },
      "outputs": [
        {
          "output_type": "stream",
          "name": "stdout",
          "text": [
            "Drive already mounted at /content/drive; to attempt to forcibly remount, call drive.mount(\"/content/drive\", force_remount=True).\n",
            "/content\n"
          ]
        }
      ],
      "source": [
        "your_path = \"/content/\"\n",
        "try:\n",
        "    from google.colab import drive\n",
        "    drive.mount('/content/drive')\n",
        "    import os\n",
        "    os.chdir(your_path)\n",
        "    print(os.getcwd())\n",
        "except ModuleNotFoundError:\n",
        "    print(\"you are not in google colab, pass this phase\")\n",
        "import numpy as np\n",
        "import matplotlib.pyplot as plt\n",
        "from torchvision import datasets, transforms\n",
        "from torch.utils.data import DataLoader"
      ]
    },
    {
      "cell_type": "code",
      "source": [
        "from google.colab import drive\n",
        "drive.mount('/content/drive')"
      ],
      "metadata": {
        "colab": {
          "base_uri": "https://localhost:8080/"
        },
        "id": "AyaivZP-9jRS",
        "outputId": "d1666f36-b9eb-4f9c-aea2-a4a5fed9386e"
      },
      "execution_count": 1,
      "outputs": [
        {
          "output_type": "stream",
          "name": "stdout",
          "text": [
            "Mounted at /content/drive\n"
          ]
        }
      ]
    },
    {
      "cell_type": "markdown",
      "source": [
        "# Neural Network with MNIST\n",
        "\n",
        "## torchvision 패키지\n",
        "\n",
        "torchvision 은 컴퓨터 비전과 관련된 유틸들을 모아둔 패키지다."
      ],
      "metadata": {
        "id": "nS-n35Jh5iUd"
      }
    },
    {
      "cell_type": "code",
      "source": [
        "# 데이터 경로\n",
        "data_path = \"../data\"\n",
        "\n",
        "train_dataset = datasets.MNIST(\n",
        "    root=data_path,\n",
        "    train=True,\n",
        "    transform=transforms.ToTensor(),\n",
        "    download=True)\n",
        "\n",
        "train_loader = DataLoader(\n",
        "    dataset=train_dataset,\n",
        "    batch_size=64,\n",
        "    shuffle=True)\n",
        "\n",
        "test_dataset = datasets.MNIST(\n",
        "    root=data_path,\n",
        "    train=False,\n",
        "    transform=transforms.ToTensor(),\n",
        "    download=True)\n",
        "\n",
        "test_loader = DataLoader(\n",
        "    dataset=test_dataset,\n",
        "    batch_size=64,\n",
        "    shuffle=True)\n",
        "\n"
      ],
      "metadata": {
        "id": "PU1qm8He5inE"
      },
      "execution_count": null,
      "outputs": []
    },
    {
      "cell_type": "code",
      "source": [
        "fig, axes = plt.subplots(3, 4)\n",
        "img_tensors = train_dataset.data[:12]\n",
        "for ax, img in zip(axes.flatten(), img_tensors):\n",
        "    ax.imshow(img, cmap=\"gray\")\n",
        "    ax.axis(\"off\")"
      ],
      "metadata": {
        "id": "51kHTgaD5l8c",
        "colab": {
          "base_uri": "https://localhost:8080/",
          "height": 405
        },
        "outputId": "2c2b4797-e6e7-4c97-d0cc-3627711a107b"
      },
      "execution_count": null,
      "outputs": [
        {
          "output_type": "display_data",
          "data": {
            "text/plain": [
              "<Figure size 640x480 with 12 Axes>"
            ],
            "image/png": "[encoded data removed]"
          },
          "metadata": {}
        }
      ]
    },
    {
      "cell_type": "markdown",
      "source": [
        "## MNIST 모델(Coding Part)"
      ],
      "metadata": {
        "id": "CpkFKbq35ncN"
      }
    },
    {
      "cell_type": "code",
      "source": [
        "import torch\n",
        "import torch.nn as nn\n",
        "import torch.optim as optim\n",
        "import torch.nn.functional as F"
      ],
      "metadata": {
        "id": "BIMlKBld5ns8"
      },
      "execution_count": null,
      "outputs": []
    },
    {
      "cell_type": "markdown",
      "source": [
        "### **네트워크 설계**\n",
        "\n",
        "**1. 다음의 구조를 참고하여 Network 클래스를 완성하시오.**\n",
        "\n",
        "* Input Size = (B, 1, 28, 28)\n",
        "* Output Size = (B, 10)\n",
        "* Linear Layer 1(`nn.Linear`): Hidden size = 300  \n",
        "* Linear Layer 2(`nn.Linear`): Hidden size = 100\n",
        "* Activation Function(`nn.ReLU`): ReLU\n",
        "* Loss Function(`nn.CrossEntropyLoss`): Cross Entropy Loss\n",
        "* Optimizer(`optim.Adam`): Adam"
      ],
      "metadata": {
        "id": "B-F6XC7w5qCu"
      }
    },
    {
      "cell_type": "code",
      "source": [
        "class Network(nn.Module):\n",
        "    def __init__(self):\n",
        "        super(Network, self).__init__()\n",
        "        # 층을 구성\n",
        "        \"\"\"write your code\"\"\"\n",
        "        self.fc1 = nn.Linear(784, 512)\n",
        "        self.fc2 = nn.Linear(512, 256)\n",
        "        self.fc3 = nn.Linear(256, 10)\n",
        "\n",
        "\n",
        "    def forward(self, x):\n",
        "        # forward propagation 수행\n",
        "        # x의 차원을 (미니배치, 28*28)에 알맞게 수정한다.\n",
        "        x = x.view(-1, 784)\n",
        "        \"\"\"write your code\"\"\"\n",
        "        x = F.relu(self.fc1(x))\n",
        "        x = F.relu(self.fc2(x))\n",
        "        x = self.fc3(x)\n",
        "        return x"
      ],
      "metadata": {
        "id": "IZBbBKCu5qWr"
      },
      "execution_count": null,
      "outputs": []
    },
    {
      "cell_type": "markdown",
      "source": [
        "### **손실함수 및 옵티마이저**\n",
        "\n",
        "** 2. loss function과 optimizer를 선택하시오 **\n"
      ],
      "metadata": {
        "id": "VcPoJHhx5s9P"
      }
    },
    {
      "cell_type": "code",
      "source": [
        "device = \"cuda\" if torch.cuda.is_available() else \"cpu\"\n",
        "\n",
        "# 커스텀 모듈 호출\n",
        "model = Network().to(device)\n",
        "loss_function = nn.CrossEntropyLoss()\n",
        "optimizer = optim.Adam(model.parameters(), lr= 0.001)"
      ],
      "metadata": {
        "id": "7rU2jpci5tXF"
      },
      "execution_count": null,
      "outputs": []
    },
    {
      "cell_type": "markdown",
      "source": [
        "## 모델 훈련\n",
        "\n",
        "훈련 데이터로 모델을 훈련시키고, 테스트 데이터로 최적의 모델을 결정한다."
      ],
      "metadata": {
        "id": "ZzXq4MTC5vu9"
      }
    },
    {
      "cell_type": "code",
      "source": [
        "train_data, train_labels = next(iter(train_loader))\n",
        "test_data, test_labels = next(iter(test_loader))\n",
        "# 차원 변환 과정 (모델을 돌리기 위해서 2차원으로 변경)\n",
        "train_dataset = train_data.view(train_data.shape[0], -1)  # (60000, 1, 28, 28) -> (60000, 784) #-1 = 선택되지 않은값들을 전부 곱해줌\n",
        "test_dataset = test_data.view(test_data.shape[0], -1)  # (10000, 1, 28, 28) -> (10000, 784)"
      ],
      "metadata": {
        "id": "lc4S-YYSXRqg"
      },
      "execution_count": null,
      "outputs": []
    },
    {
      "cell_type": "code",
      "source": [
        "n_train = len(train_dataset)\n",
        "n_test = len(test_dataset)\n",
        "n_step = 10\n",
        "print_step = 300\n",
        "best_accuracy = 0\n",
        "\n",
        "for step in range(n_step):\n",
        "    print(f\"[Step] {step+1}/{n_step}\\n [Training Step]\")\n",
        "    # Training\n",
        "    model.train()\n",
        "    for batch_idx, (data, target) in enumerate(train_loader):\n",
        "        # 입력과 타겟 텐서에 GPU 를 사용여부 전달\n",
        "        data, target = data.to(device), target.to(device)\n",
        "        # 경사 초기화\n",
        "        # model.eval()\n",
        "        # 순방향 전파\n",
        "        output = model(data)\n",
        "        # 손실값 계산\n",
        "        loss = loss_function(output, target)\n",
        "        # 역방향 전파\n",
        "        loss.backward()\n",
        "        # 매개변수 업데이트\n",
        "        optimizer.step()\n",
        "        # 중간 과정 print\n",
        "        if batch_idx % print_step == 0:\n",
        "            percentage = (batch_idx*64 / n_train) * 100\n",
        "            print(f\" - [{percentage:.2f}%] train loss: {loss.item():.4f}\")\n",
        "\n",
        "    # Validation\n",
        "    model.eval()\n",
        "    test_loss = 0\n",
        "    correct = 0\n",
        "    # torch.no_grad 를 사용하면 requires_grad 를 꺼두게 된다.\n",
        "    with torch.no_grad():\n",
        "        for data, target in test_loader:\n",
        "            # 입력과 타겟 텐서에 GPU 를 사용여부 전달\n",
        "            data, target = data.to(device), target.to(device)\n",
        "            # 순방향전파\n",
        "            output = model(data)\n",
        "            # 손실값 계산\n",
        "            test_loss += loss_function(output, target).item()\n",
        "            # 예측 값에 해당하는 클래스 번호 반환\n",
        "            pred = torch.argmax(output, dim=1)\n",
        "            # 정확하게 예측한 개수를 기록한다\n",
        "            correct += pred.eq(target.view_as(pred)).sum().item()\n",
        "    test_accuracy = correct / n_test\n",
        "    print(f\" [Validation Step]\")\n",
        "    print(f\" - test loss: {test_loss:.4f} test accuracy: {test_accuracy*100:.2f} %\")\n",
        "\n",
        "    # 제일 성능을 보인 좋은 모델 저장하기\n",
        "    if test_accuracy > best_accuracy:\n",
        "        best_accuracy = test_accuracy\n",
        "        torch.save(model.state_dict(), \"best_model-mnist.pt\")\n"
      ],
      "metadata": {
        "id": "EP1dAC3I5wDk"
      },
      "execution_count": null,
      "outputs": []
    },
    {
      "cell_type": "markdown",
      "source": [
        "## 이미지를 그려보고 테스트 해보자!"
      ],
      "metadata": {
        "id": "xAzDQQU95zLG"
      }
    },
    {
      "cell_type": "code",
      "source": [
        "load_path = \"best_model-mnist.pt\"\n",
        "model = Network()\n",
        "model.load_state_dict(torch.load(load_path))\n",
        "\n",
        "def predict(model, x):\n",
        "    model.eval()\n",
        "    output = model(x)\n",
        "    pred = torch.argmax(output, dim=1)\n",
        "    print(f\"Predict Number is {pred.item()}\")"
      ],
      "metadata": {
        "id": "NdZJTCAr5zdb",
        "colab": {
          "base_uri": "https://localhost:8080/"
        },
        "outputId": "cc27ead5-f5e3-491e-8709-124035a0d6a7"
      },
      "execution_count": null,
      "outputs": [
        {
          "output_type": "stream",
          "name": "stderr",
          "text": [
            "<ipython-input-49-4f3bce1b94e5>:3: FutureWarning: You are using `torch.load` with `weights_only=False` (the current default value), which uses the default pickle module implicitly. It is possible to construct malicious pickle data which will execute arbitrary code during unpickling (See https://github.com/pytorch/pytorch/blob/main/SECURITY.md#untrusted-models for more details). In a future release, the default value for `weights_only` will be flipped to `True`. This limits the functions that could be executed during unpickling. Arbitrary objects will no longer be allowed to be loaded via this mode unless they are explicitly allowlisted by the user via `torch.serialization.add_safe_globals`. We recommend you start setting `weights_only=True` for any use case where you don't have full control of the loaded file. Please open an issue on GitHub for any issues related to this experimental feature.\n",
            "  model.load_state_dict(torch.load(load_path))\n"
          ]
        }
      ]
    },
    {
      "cell_type": "code",
      "source": [
        "try:\n",
        "    from google.colab.output import eval_js\n",
        "    from IPython.display import HTML, Image\n",
        "    from base64 import b64decode\n",
        "except ModuleNotFoundError:\n",
        "    print(\"only support in google colabotory\")"
      ],
      "metadata": {
        "id": "uZ17Y2Ci512X"
      },
      "execution_count": null,
      "outputs": []
    },
    {
      "cell_type": "code",
      "source": [
        "canvas_html = \"\"\"\n",
        "<canvas width=%d height=%d></canvas>\n",
        "<button>Finish</button>\n",
        "<script>\n",
        "var canvas = document.querySelector('canvas')\n",
        "var ctx = canvas.getContext('2d')\n",
        "ctx.lineWidth = %d\n",
        "var button = document.querySelector('button')\n",
        "var mouse = {x: 0, y: 0}\n",
        "canvas.addEventListener('mousemove', function(e) {\n",
        "  mouse.x = e.pageX - this.offsetLeft\n",
        "  mouse.y = e.pageY - this.offsetTop\n",
        "})\n",
        "canvas.onmousedown = ()=>{\n",
        "  ctx.beginPath()\n",
        "  ctx.moveTo(mouse.x, mouse.y)\n",
        "  canvas.addEventListener('mousemove', onPaint)\n",
        "}\n",
        "canvas.onmouseup = ()=>{\n",
        "  canvas.removeEventListener('mousemove', onPaint)\n",
        "}\n",
        "var onPaint = ()=>{\n",
        "  ctx.lineTo(mouse.x, mouse.y)\n",
        "  ctx.stroke()\n",
        "}\n",
        "var data = new Promise(resolve=>{\n",
        "  button.onclick = ()=>{\n",
        "    resolve(canvas.toDataURL('image/png'))\n",
        "  }\n",
        "})\n",
        "</script>\n",
        "\"\"\"\n",
        "\n",
        "def draw(filename='drawing.png', w=480, h=480, line_width=25):\n",
        "    display(HTML(canvas_html % (w, h, line_width)))\n",
        "    data = eval_js(\"data\")\n",
        "    binary = b64decode(data.split(',')[1])\n",
        "    with open(filename, 'wb') as f:\n",
        "        f.write(binary)\n",
        "\n",
        "    from PIL import Image\n",
        "    import numpy as np\n",
        "    img = Image.open(filename)\n",
        "    img.thumbnail((28, 28), Image.Resampling.LANCZOS)\n",
        "    x = np.array(img)[:, :, -1]\n",
        "    img = Image.fromarray(x)\n",
        "    img.save(filename)\n",
        "    print(f\"'{filename}' image saved!\")\n",
        "\n",
        "def load_image(filename=\"drawing.png\"):\n",
        "    from PIL import Image\n",
        "    import numpy as np\n",
        "    import matplotlib.pyplot as plt\n",
        "    img = Image.open(filename)\n",
        "    x = np.array(img) / 255.0\n",
        "    plt.imshow(x)\n",
        "    plt.show()\n",
        "    return x[np.newaxis, np.newaxis, :, :]"
      ],
      "metadata": {
        "id": "7xBMIYnq53Ym"
      },
      "execution_count": null,
      "outputs": []
    },
    {
      "cell_type": "code",
      "source": [
        "draw(filename='custom_drawing.png')"
      ],
      "metadata": {
        "id": "xzbMrrw954sF",
        "colab": {
          "base_uri": "https://localhost:8080/",
          "height": 147
        },
        "outputId": "501c2846-f4fb-4b54-e523-8d66d214df29"
      },
      "execution_count": null,
      "outputs": [
        {
          "output_type": "error",
          "ename": "NameError",
          "evalue": "name 'draw' is not defined",
          "traceback": [
            "\u001b[0;31m---------------------------------------------------------------------------\u001b[0m",
            "\u001b[0;31mNameError\u001b[0m                                 Traceback (most recent call last)",
            "\u001b[0;32m<ipython-input-1-cf436d25b09f>\u001b[0m in \u001b[0;36m<cell line: 1>\u001b[0;34m()\u001b[0m\n\u001b[0;32m----> 1\u001b[0;31m \u001b[0mdraw\u001b[0m\u001b[0;34m(\u001b[0m\u001b[0mfilename\u001b[0m\u001b[0;34m=\u001b[0m\u001b[0;34m'custom_drawing.png'\u001b[0m\u001b[0;34m)\u001b[0m\u001b[0;34m\u001b[0m\u001b[0;34m\u001b[0m\u001b[0m\n\u001b[0m",
            "\u001b[0;31mNameError\u001b[0m: name 'draw' is not defined"
          ]
        }
      ]
    },
    {
      "cell_type": "code",
      "source": [
        "x = load_image(filename='custom_drawing.png')\n",
        "x = torch.FloatTensor(x)\n",
        "predict(model, x)"
      ],
      "metadata": {
        "id": "vVPqz-ye55t1",
        "colab": {
          "base_uri": "https://localhost:8080/",
          "height": 448
        },
        "outputId": "33d5379d-d355-4e1f-9ef8-f1ff7e71a05d"
      },
      "execution_count": null,
      "outputs": [
        {
          "output_type": "display_data",
          "data": {
            "text/plain": [
              "<Figure size 640x480 with 1 Axes>"
            ],
            "image/png": "[encoded data removed]"
          },
          "metadata": {}
        },
        {
          "output_type": "stream",
          "name": "stdout",
          "text": [
            "Predict Number is 6\n"
          ]
        }
      ]
    }
  ]
}